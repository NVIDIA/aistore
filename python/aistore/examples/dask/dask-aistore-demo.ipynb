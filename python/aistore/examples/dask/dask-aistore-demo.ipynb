{
 "cells": [
  {
   "cell_type": "markdown",
   "metadata": {},
   "source": [
    "## **AIStore w/ Dask**"
   ]
  },
  {
   "cell_type": "markdown",
   "metadata": {},
   "source": [
    "[Dask](https://www.dask.org/) is a new and popular open-source Python library for parallel computing. Dask provides this parallel functionality for a single machine up to a distributed cluster."
   ]
  },
  {
   "cell_type": "markdown",
   "metadata": {},
   "source": [
    "#### **Pandas v. Dask**\n",
    "\n",
    "For data scientists, [Pandas](https://pandas.pydata.org/) has long been the preferred tool for analyzing and manipulating data with Python. However, Dask provides similar capabilities, with the notable exception being Dask's *scalability* with dataset size. \n",
    "\n",
    "[Dask DataFrames](https://docs.dask.org/en/stable/dataframe.html) are essentially, a large, virtual dataframe divided along the index into multiple Pandas DataFrames. In fact, the `dask.DataFrame` API is a [subset](https://docs.dask.org/en/stable/dataframe.html#dask-dataframe-copies-the-pandas-dataframe-api) of `pd.DataFrame` API and should be familiar to those already familiar with [Pandas DataFrames](https://pandas.pydata.org/pandas-docs/stable/reference/api/pandas.DataFrame.html).\n",
    "\n",
    "> For more information on Dask DataFrame API use, please refer to the [Dask DataFrame API reference](https://docs.dask.org/en/stable/dataframe-api.html).\n",
    "\n",
    "Dask `DataFrames` support data access via HTTP(s) protocol and AIStore clusters support data access via [REST API](https://aiatscale.org/docs/http-api). REST API allows for data on AIStore to be read, written, and otherwise operated on via HTTP(s) verbs."
   ]
  },
  {
   "cell_type": "markdown",
   "metadata": {},
   "source": [
    "### <ins>**Getting Started**"
   ]
  },
  {
   "cell_type": "markdown",
   "metadata": {},
   "source": [
    "Install Dask with `pip` as follows:\n",
    "\n",
    "```console\n",
    "$ python -m pip install dask\n",
    "```\n",
    "\n",
    "Install the latest AIStore release either with `conda` or `pip`:\n",
    "\n",
    "```console\n",
    "$ conda install aistore\n",
    "```\n",
    "\n",
    "```console\n",
    "$ pip install aistore\n",
    "```"
   ]
  },
  {
   "cell_type": "markdown",
   "metadata": {},
   "source": [
    "Start by deploying an AIStore cluster. The following demonstrations will be utilizing a [Minikube (Kubernetes) deployment](https://github.com/NVIDIA/aistore/blob/master/deploy/dev/k8s/README.md) of AIStore. \n",
    "\n",
    "> For information on AIStore deployment options, refer [here](https://github.com/NVIDIA/aistore/blob/master/deploy/README.md).\n",
    "\n",
    "Once deployed, import the `aistore` package and initialize a `Client`:"
   ]
  },
  {
   "cell_type": "code",
   "execution_count": 4,
   "metadata": {},
   "outputs": [
    {
     "data": {
      "text/plain": [
       "[BucketEntry(name='zillow.csv', size=842, checksum='8b118b6e12d5b4b1', atime='15 Aug 22 15:13 UTC', version='', target_url='', copies=0, flags=64)]"
      ]
     },
     "execution_count": 4,
     "metadata": {},
     "output_type": "execute_result"
    }
   ],
   "source": [
    "from aistore import Client\n",
    "\n",
    "AIS_ENDPOINT = \"http://192.168.49.2:8080\"\n",
    "\n",
    "# Initialize AIStore client\n",
    "client = Client(AIS_ENDPOINT)\n",
    "\n",
    "# Load sample data to AIStore for following demonstrations (Local to AIStore)\n",
    "client.bucket(\"dask-demo-bucket\").create()\n",
    "client.bucket(\"dask-demo-bucket\").object(\"zillow.csv\").put(\"./data/zillow.csv\")\n",
    "\n",
    "# Verify that the object is in bucket\n",
    "client.bucket(\"dask-demo-bucket\").list_objects().get_entries()"
   ]
  },
  {
   "cell_type": "markdown",
   "metadata": {},
   "source": [
    "### <ins>**ETL** (**E**xtract-**T**ransform-**L**oad)"
   ]
  },
  {
   "cell_type": "markdown",
   "metadata": {},
   "source": [
    "**Note:** ETL processes using Dask with data on AIStore *are* possible, but has limitations as Dask does *not* currently support AIStore as a recognized storage provider. Refer to the AIS-ETL service [here](https://github.com/NVIDIA/aistore/blob/master/docs/etl.md), which offers both *offline* and *inline* custom transformations, as well as flexibility to the scope of those transformations (bucket-specific or object(s)-specific), and more."
   ]
  },
  {
   "cell_type": "markdown",
   "metadata": {},
   "source": [
    "#### **Extract:**"
   ]
  },
  {
   "cell_type": "markdown",
   "metadata": {},
   "source": [
    "Initialize the Dask [`DataFrame`](https://docs.dask.org/en/stable/dataframe.html) with a direct HTTP(s) address to data residing on AIStore:"
   ]
  },
  {
   "cell_type": "code",
   "execution_count": 5,
   "metadata": {},
   "outputs": [],
   "source": [
    "import dask.dataframe as dd\n",
    "\n",
    "\n",
    "def read_csv_ais(bck_name: str, obj_name: str):\n",
    "    return dd.read_csv(f\"{AIS_ENDPOINT}/v1/objects/{bck_name}/{obj_name}\")\n",
    "\n",
    "\n",
    "# Initialize DataFrame\n",
    "df = read_csv_ais(bck_name=\"dask-demo-bucket\", obj_name=\"zillow.csv\")"
   ]
  },
  {
   "cell_type": "markdown",
   "metadata": {},
   "source": [
    "Dask `DataFrames` are split into smaller partitions and partitions are loaded into memory *as needed*. The method `head()` allows us to see just the first few lines of the data:"
   ]
  },
  {
   "cell_type": "code",
   "execution_count": 6,
   "metadata": {},
   "outputs": [
    {
     "data": {
      "text/html": [
       "<div>\n",
       "<style scoped>\n",
       "    .dataframe tbody tr th:only-of-type {\n",
       "        vertical-align: middle;\n",
       "    }\n",
       "\n",
       "    .dataframe tbody tr th {\n",
       "        vertical-align: top;\n",
       "    }\n",
       "\n",
       "    .dataframe thead th {\n",
       "        text-align: right;\n",
       "    }\n",
       "</style>\n",
       "<table border=\"1\" class=\"dataframe\">\n",
       "  <thead>\n",
       "    <tr style=\"text-align: right;\">\n",
       "      <th></th>\n",
       "      <th>Index</th>\n",
       "      <th>\"Living Space (sq ft)\"</th>\n",
       "      <th>\"Beds\"</th>\n",
       "      <th>\"Baths\"</th>\n",
       "      <th>\"Zip\"</th>\n",
       "      <th>\"Year\"</th>\n",
       "      <th>\"List Price ($)\"</th>\n",
       "    </tr>\n",
       "  </thead>\n",
       "  <tbody>\n",
       "    <tr>\n",
       "      <th>0</th>\n",
       "      <td>1</td>\n",
       "      <td>2222</td>\n",
       "      <td>3</td>\n",
       "      <td>3.5</td>\n",
       "      <td>32312</td>\n",
       "      <td>1981</td>\n",
       "      <td>250000</td>\n",
       "    </tr>\n",
       "    <tr>\n",
       "      <th>1</th>\n",
       "      <td>2</td>\n",
       "      <td>1628</td>\n",
       "      <td>3</td>\n",
       "      <td>2.0</td>\n",
       "      <td>32308</td>\n",
       "      <td>2009</td>\n",
       "      <td>185000</td>\n",
       "    </tr>\n",
       "    <tr>\n",
       "      <th>2</th>\n",
       "      <td>3</td>\n",
       "      <td>3824</td>\n",
       "      <td>5</td>\n",
       "      <td>4.0</td>\n",
       "      <td>32312</td>\n",
       "      <td>1954</td>\n",
       "      <td>399000</td>\n",
       "    </tr>\n",
       "    <tr>\n",
       "      <th>3</th>\n",
       "      <td>4</td>\n",
       "      <td>1137</td>\n",
       "      <td>3</td>\n",
       "      <td>2.0</td>\n",
       "      <td>32309</td>\n",
       "      <td>1993</td>\n",
       "      <td>150000</td>\n",
       "    </tr>\n",
       "    <tr>\n",
       "      <th>4</th>\n",
       "      <td>5</td>\n",
       "      <td>3560</td>\n",
       "      <td>6</td>\n",
       "      <td>4.0</td>\n",
       "      <td>32309</td>\n",
       "      <td>1973</td>\n",
       "      <td>315000</td>\n",
       "    </tr>\n",
       "  </tbody>\n",
       "</table>\n",
       "</div>"
      ],
      "text/plain": [
       "   Index   \"Living Space (sq ft)\"   \"Beds\"   \"Baths\"   \"Zip\"   \"Year\"  \\\n",
       "0      1                     2222        3       3.5   32312     1981   \n",
       "1      2                     1628        3       2.0   32308     2009   \n",
       "2      3                     3824        5       4.0   32312     1954   \n",
       "3      4                     1137        3       2.0   32309     1993   \n",
       "4      5                     3560        6       4.0   32309     1973   \n",
       "\n",
       "    \"List Price ($)\"  \n",
       "0             250000  \n",
       "1             185000  \n",
       "2             399000  \n",
       "3             150000  \n",
       "4             315000  "
      ]
     },
     "execution_count": 6,
     "metadata": {},
     "output_type": "execute_result"
    }
   ],
   "source": [
    "# View first partition of data\n",
    "df.head()"
   ]
  },
  {
   "cell_type": "code",
   "execution_count": 7,
   "metadata": {},
   "outputs": [
    {
     "data": {
      "text/html": [
       "<div>\n",
       "<style scoped>\n",
       "    .dataframe tbody tr th:only-of-type {\n",
       "        vertical-align: middle;\n",
       "    }\n",
       "\n",
       "    .dataframe tbody tr th {\n",
       "        vertical-align: top;\n",
       "    }\n",
       "\n",
       "    .dataframe thead th {\n",
       "        text-align: right;\n",
       "    }\n",
       "</style>\n",
       "<table border=\"1\" class=\"dataframe\">\n",
       "  <thead>\n",
       "    <tr style=\"text-align: right;\">\n",
       "      <th></th>\n",
       "      <th>Index</th>\n",
       "      <th>\"Living Space (sq ft)\"</th>\n",
       "      <th>\"Beds\"</th>\n",
       "      <th>\"Baths\"</th>\n",
       "      <th>\"Zip\"</th>\n",
       "      <th>\"Year\"</th>\n",
       "      <th>\"List Price ($)\"</th>\n",
       "    </tr>\n",
       "  </thead>\n",
       "  <tbody>\n",
       "    <tr>\n",
       "      <th>0</th>\n",
       "      <td>1</td>\n",
       "      <td>2222</td>\n",
       "      <td>3</td>\n",
       "      <td>3.5</td>\n",
       "      <td>32312</td>\n",
       "      <td>1981</td>\n",
       "      <td>250000</td>\n",
       "    </tr>\n",
       "    <tr>\n",
       "      <th>1</th>\n",
       "      <td>2</td>\n",
       "      <td>1628</td>\n",
       "      <td>3</td>\n",
       "      <td>2.0</td>\n",
       "      <td>32308</td>\n",
       "      <td>2009</td>\n",
       "      <td>185000</td>\n",
       "    </tr>\n",
       "  </tbody>\n",
       "</table>\n",
       "</div>"
      ],
      "text/plain": [
       "   Index   \"Living Space (sq ft)\"   \"Beds\"   \"Baths\"   \"Zip\"   \"Year\"  \\\n",
       "0      1                     2222        3       3.5   32312     1981   \n",
       "1      2                     1628        3       2.0   32308     2009   \n",
       "\n",
       "    \"List Price ($)\"  \n",
       "0             250000  \n",
       "1             185000  "
      ]
     },
     "execution_count": 7,
     "metadata": {},
     "output_type": "execute_result"
    }
   ],
   "source": [
    "# View first two lines of data\n",
    "df.head(2)"
   ]
  },
  {
   "cell_type": "markdown",
   "metadata": {},
   "source": [
    "#### **Transform:**"
   ]
  },
  {
   "cell_type": "markdown",
   "metadata": {},
   "source": [
    "As mentioned before, Dask `DataFrames` are built on and in parallel with the Pandas API. The `dask.dataframe` API is very similar to the [Pandas](https://docs.dask.org/en/stable/dataframe.html#dask-dataframe-copies-the-pandas-dataframe-api) API and should be very familiar to those already familiar with Pandas:"
   ]
  },
  {
   "cell_type": "code",
   "execution_count": 8,
   "metadata": {},
   "outputs": [
    {
     "name": "stdout",
     "output_type": "stream",
     "text": [
      "Index(['Index', ' \"Living Space (sq ft)\"', ' \"Beds\"', ' \"Baths\"', ' \"Zip\"',\n",
      "       ' \"Year\"', ' \"List Price ($)\"'],\n",
      "      dtype='object')\n"
     ]
    },
    {
     "data": {
      "text/html": [
       "<div>\n",
       "<style scoped>\n",
       "    .dataframe tbody tr th:only-of-type {\n",
       "        vertical-align: middle;\n",
       "    }\n",
       "\n",
       "    .dataframe tbody tr th {\n",
       "        vertical-align: top;\n",
       "    }\n",
       "\n",
       "    .dataframe thead th {\n",
       "        text-align: right;\n",
       "    }\n",
       "</style>\n",
       "<table border=\"1\" class=\"dataframe\">\n",
       "  <thead>\n",
       "    <tr style=\"text-align: right;\">\n",
       "      <th></th>\n",
       "      <th>index</th>\n",
       "      <th>Index</th>\n",
       "      <th>\"Living Space (sq ft)\"</th>\n",
       "      <th>\"Beds\"</th>\n",
       "      <th>\"Baths\"</th>\n",
       "      <th>\"Zip\"</th>\n",
       "      <th>\"Year\"</th>\n",
       "      <th>\"List Price ($)\"</th>\n",
       "    </tr>\n",
       "  </thead>\n",
       "  <tbody>\n",
       "    <tr>\n",
       "      <th>0</th>\n",
       "      <td>1</td>\n",
       "      <td>2</td>\n",
       "      <td>1628</td>\n",
       "      <td>3</td>\n",
       "      <td>2.0</td>\n",
       "      <td>32308</td>\n",
       "      <td>2009</td>\n",
       "      <td>185000</td>\n",
       "    </tr>\n",
       "    <tr>\n",
       "      <th>1</th>\n",
       "      <td>9</td>\n",
       "      <td>10</td>\n",
       "      <td>1997</td>\n",
       "      <td>3</td>\n",
       "      <td>3.0</td>\n",
       "      <td>32311</td>\n",
       "      <td>2006</td>\n",
       "      <td>295000</td>\n",
       "    </tr>\n",
       "    <tr>\n",
       "      <th>2</th>\n",
       "      <td>10</td>\n",
       "      <td>11</td>\n",
       "      <td>2097</td>\n",
       "      <td>4</td>\n",
       "      <td>3.0</td>\n",
       "      <td>32311</td>\n",
       "      <td>2016</td>\n",
       "      <td>290000</td>\n",
       "    </tr>\n",
       "    <tr>\n",
       "      <th>3</th>\n",
       "      <td>14</td>\n",
       "      <td>15</td>\n",
       "      <td>1381</td>\n",
       "      <td>3</td>\n",
       "      <td>2.0</td>\n",
       "      <td>32301</td>\n",
       "      <td>2006</td>\n",
       "      <td>143000</td>\n",
       "    </tr>\n",
       "  </tbody>\n",
       "</table>\n",
       "</div>"
      ],
      "text/plain": [
       "   index  Index   \"Living Space (sq ft)\"   \"Beds\"   \"Baths\"   \"Zip\"   \"Year\"  \\\n",
       "0      1      2                     1628        3       2.0   32308     2009   \n",
       "1      9     10                     1997        3       3.0   32311     2006   \n",
       "2     10     11                     2097        4       3.0   32311     2016   \n",
       "3     14     15                     1381        3       2.0   32301     2006   \n",
       "\n",
       "    \"List Price ($)\"  \n",
       "0             185000  \n",
       "1             295000  \n",
       "2             290000  \n",
       "3             143000  "
      ]
     },
     "execution_count": 8,
     "metadata": {},
     "output_type": "execute_result"
    }
   ],
   "source": [
    "# Print columns\n",
    "print(df.columns)\n",
    "\n",
    "# Filter datapoints for houses built AFTER the year 2000\n",
    "df_new = df[df[' \"Year\"'] > 2000]\n",
    "# Further filter for houses with a price less than $300,000\n",
    "df_new_and_budget = df_new[df_new[' \"List Price ($)\"'] < 300000]\n",
    "# Reindex\n",
    "df_final = df_new_and_budget.reset_index()\n",
    "\n",
    "# Verify that data has been correctly filtered\n",
    "df_final.head()"
   ]
  },
  {
   "cell_type": "markdown",
   "metadata": {},
   "source": [
    "Dask also provides other tools that efficiently process a variety of different types of files, such as [images](https://examples.dask.org/applications/image-processing.html). The following snippet demonstrates image pre-processing capabilities with Dask using the [`dask-image`](https://github.com/dask/dask-image) module, similar to image transformations demonstrated with AIS-ETLs [here](https://aiatscale.org/blog/2021/10/22/ais-etl-2):"
   ]
  },
  {
   "cell_type": "code",
   "execution_count": 29,
   "metadata": {},
   "outputs": [
    {
     "data": {
      "text/plain": [
       "<matplotlib.image.AxesImage at 0x7f0e38725ab0>"
      ]
     },
     "execution_count": 29,
     "metadata": {},
     "output_type": "execute_result"
    },
    {
     "data": {
      "image/png": "[encoded data removed]",
      "text/plain": [
       "<Figure size 432x288 with 1 Axes>"
      ]
     },
     "metadata": {
      "needs_background": "light"
     },
     "output_type": "display_data"
    }
   ],
   "source": [
    "from nturl2path import url2pathname\n",
    "import imageio.v3\n",
    "from io import BytesIO\n",
    "import matplotlib.pyplot as plt\n",
    "import os\n",
    "import requests\n",
    "\n",
    "try:\n",
    "    from skimage.io import imread as sk_imread\n",
    "except (AttributeError, ImportError):\n",
    "    pass\n",
    "\n",
    "from dask.array.core import Array\n",
    "from dask.base import tokenize\n",
    "\n",
    "\n",
    "def add_leading_dimension(x):\n",
    "    return x[None, ...]\n",
    "\n",
    "\n",
    "def url_image_reader(url):\n",
    "    response = requests.get(url)\n",
    "    byte_content = BytesIO(response.content)\n",
    "    image = imageio.v3.imread(byte_content)\n",
    "    return image\n",
    "\n",
    "\n",
    "# Modified version of dask.array.image.imread (doesn't use glob)\n",
    "def custom_imread(filenames, imread=None, preprocess=None):\n",
    "    \"\"\"Read a stack of images into a dask array\n",
    "    Parameters\n",
    "    ----------\n",
    "    filenames: list of strings\n",
    "        A list of filename strings, eg: ['myfile._01.png', 'myfile_02.png']\n",
    "    imread: function (optional)\n",
    "        Optionally provide custom imread function.\n",
    "        Function should expect a filename and produce a numpy array.\n",
    "        Defaults to ``skimage.io.imread``.\n",
    "    preprocess: function (optional)\n",
    "        Optionally provide custom function to preprocess the image.\n",
    "        Function should expect a numpy array for a single image.\n",
    "    Examples\n",
    "    --------\n",
    "    >>> from dask.array.image import imread\n",
    "    >>> im = imread('2015-*-*.png')  # doctest: +SKIP\n",
    "    >>> im.shape  # doctest: +SKIP\n",
    "    (365, 1000, 1000, 3)\n",
    "    Returns\n",
    "    -------\n",
    "    Dask array of all images stacked along the first dimension.\n",
    "    Each separate image file will be treated as an individual chunk.\n",
    "    \"\"\"\n",
    "    imread = imread or sk_imread\n",
    "\n",
    "    name = \"imread-%s\" % tokenize(filenames, map(os.path.getmtime, filenames))\n",
    "\n",
    "    sample = imread(filenames[0])\n",
    "    if preprocess:\n",
    "        sample = preprocess(sample)\n",
    "\n",
    "    keys = [(name, i) + (0,) * len(sample.shape) for i in range(len(filenames))]\n",
    "    if preprocess:\n",
    "        values = [\n",
    "            (add_leading_dimension, (preprocess, (imread, fn))) for fn in filenames\n",
    "        ]\n",
    "    else:\n",
    "        values = [(add_leading_dimension, (imread, fn)) for fn in filenames]\n",
    "    dsk = dict(zip(keys, values))\n",
    "\n",
    "    chunks = ((1,) * len(filenames),) + tuple((d,) for d in sample.shape)\n",
    "\n",
    "    return Array(dsk, name, chunks, sample.dtype)\n",
    "\n",
    "\n",
    "filenames = [f\"{AIS_ENDPOINT}/v1/objects/dask-demo-bucket/sample-image.jpg\"]\n",
    "result = custom_imread(filenames, imread=url_image_reader)\n",
    "\n",
    "# Pre-Processing function for image\n",
    "def custom_filter(rgb):\n",
    "    result = (rgb[..., 0] * 0.2125) + (rgb[..., 1] * 0.7154) + (rgb[..., 2] * 0.0721)\n",
    "    return result\n",
    "\n",
    "\n",
    "flower = result[0]\n",
    "modified_flower = custom_filter(flower)\n",
    "\n",
    "plt.imshow(modified_flower)"
   ]
  },
  {
   "cell_type": "markdown",
   "metadata": {},
   "source": [
    "#### **Load:**"
   ]
  },
  {
   "cell_type": "markdown",
   "metadata": {},
   "source": [
    "Dask *does* support many of the popular cloud storage providers (i.e. S3, GCP, Azure), and supports the direct writing of DataFrames as files to those services:\n",
    "\n",
    "```python\n",
    "# Write DataFrame as CSV to S3\n",
    "dd.to_csv(\"s3://dask-demo-bucket/sample.csv\")\n",
    "\n",
    "# Write DataFrame as JSON to GCP\n",
    "dd.to_json(\"gcs://dask-demo-bucket/sample.json\")\n",
    "```\n",
    "\n",
    "> AIStore supports a subset of S3 API and Dask supports [S3-compatible storage services](https://docs.dask.org/en/stable/how-to/connect-to-remote-data.html#using-other-s3-compatible-services). However, Dask uses Boto3 for this and AIStore does not support Boto3 as it does not follow HTTP(s) protocol. For more information on AIStore compatibility with S3, refer [here](https://github.com/NVIDIA/aistore/blob/master/docs/s3compat.md).\n",
    "\n",
    "While we cannot directly write to AIStore with Dask API (`dd.to_csv(\"ais://bucket/file.csv\")` not supported as of now), we can convert the DataFrame to bytes and move it using AIStore's own API:"
   ]
  },
  {
   "cell_type": "code",
   "execution_count": null,
   "metadata": {},
   "outputs": [],
   "source": [
    "# Convert to Pandas DataFrame\n",
    "pd = df_new_and_budget.compute()\n",
    "files = pd.to_csv(encoding=\"utf-8\")\n",
    "\n",
    "client.bucket(\"dask-demo-bucket\").list_objects().get_entries()\n",
    "\n",
    "client.bucket(\"dask-demo-bucket\").object(\"formatted-zillow.csv\").put(content=files)\n",
    "\n",
    "print(type(files))\n",
    "\n",
    "# Verify that the transformed file is now in the AIStore bucket\n",
    "client.bucket(\"dask-demo-bucket\").list_objects().get_entries()"
   ]
  },
  {
   "cell_type": "markdown",
   "metadata": {},
   "source": [
    "However, the above method of converting a Dask DataFrame to a Pandas DataFrame may not be ideal as it defeats some of the performance advantages of using Dask. Converting a Dask DataFrame to a Pandas DataFrame only makes sense to do if the data can fully fit into memory (i.e. data has been filtered and is now much smaller).\n",
    "\n",
    "For much larger datasets, [AIS-ETL](https://github.com/NVIDIA/aistore/blob/master/docs/etl.md) may offer better performance while offering similar ETL capabilities to those demonstrated above. Please refer [here](https://github.com/NVIDIA/aistore/blob/master/docs/etl.md) for more information."
   ]
  },
  {
   "cell_type": "markdown",
   "metadata": {},
   "source": [
    "### <ins>**Data Analysis** "
   ]
  },
  {
   "cell_type": "markdown",
   "metadata": {},
   "source": [
    "> Dask is not always the most efficient tool to be used in certain scenarios. Refer [here](https://docs.dask.org/en/latest/best-practices.html#start-small) for information on the best use-cases for Dask.\n",
    "\n",
    "While Dask's use-cases with AIStore are quite limited as of now, it is still useful for performing data analysis with optimized memory usage. With Dask DataFrames, data can be analyzed **without** loading the entirety of the data into memory. More specifically, because Dask DataFrames (and most other Dask collections) are [lazy](https://saturncloud.io/blog/a-data-scientist-s-guide-to-lazy-evaluation-with-dask/), computations are executed only when the `dask.distributed.compute` method is called. As a result, specific parts of the data are loaded into memory as needed for the computations and are not loaded otherwise, optimizing memory usage:"
   ]
  },
  {
   "cell_type": "code",
   "execution_count": null,
   "metadata": {},
   "outputs": [],
   "source": [
    "# Computations to be made (not computed until .compute() is called)\n",
    "mean_price = df[' \"List Price ($)\"'].mean()\n",
    "bed_sum = df[' \"Beds\"'].sum()\n",
    "mean_size = df[' \"Living Space (sq ft)\"'].mean()\n",
    "\n",
    "# Computes above in parallel\n",
    "dd.compute({\"price_mean\": mean_price, \"bed_sum\": bed_sum, \"mean_size\": mean_size})"
   ]
  },
  {
   "cell_type": "markdown",
   "metadata": {},
   "source": [
    "More examples of data analysis with Dask DataFrames can be found [here](https://examples.dask.org/dataframe.html) under Dask documentation."
   ]
  },
  {
   "cell_type": "markdown",
   "metadata": {},
   "source": [
    "### <ins>**References**"
   ]
  },
  {
   "cell_type": "markdown",
   "metadata": {},
   "source": [
    "* [Dask API](https://docs.dask.org/en/stable/dataframe-api.html)\n",
    "* [Pandas API](https://pandas.pydata.org/docs/reference/index.html)\n",
    "* [AIStore Python API](https://github.com/NVIDIA/aistore/blob/master/docs/python_api.md)\n",
    "* [AIS-ETL](https://github.com/NVIDIA/aistore/blob/master/docs/etl.md)"
   ]
  }
 ],
 "metadata": {
  "kernelspec": {
   "display_name": "Python 3.10.4 64-bit",
   "language": "python",
   "name": "python3"
  },
  "language_info": {
   "codemirror_mode": {
    "name": "ipython",
    "version": 3
   },
   "file_extension": ".py",
   "mimetype": "text/x-python",
   "name": "python",
   "nbconvert_exporter": "python",
   "pygments_lexer": "ipython3",
   "version": "3.10.4"
  },
  "orig_nbformat": 4,
  "vscode": {
   "interpreter": {
    "hash": "916dbcbb3f70747c44a77c7bcd40155683ae19c65e1c03b4aa3499c5328201f1"
   }
  }
 },
 "nbformat": 4,
 "nbformat_minor": 2
}
