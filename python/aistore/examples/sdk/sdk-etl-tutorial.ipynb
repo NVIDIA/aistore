{
 "cells": [
  {
   "cell_type": "markdown",
   "id": "9566debc",
   "metadata": {},
   "source": [
    "# AIStore Python SDK ETL Tutorial"
   ]
  },
  {
   "cell_type": "markdown",
   "id": "e616503b",
   "metadata": {},
   "source": [
    "### Initialize ETLs\n"
   ]
  },
  {
   "cell_type": "code",
   "execution_count": 1,
   "id": "45d2c741",
   "metadata": {},
   "outputs": [
    {
     "data": {
      "text/plain": [
       "'etl-spec-demo'"
      ]
     },
     "execution_count": 1,
     "metadata": {},
     "output_type": "execute_result"
    }
   ],
   "source": [
    "from aistore import Client\n",
    "from aistore.client.etl_templates import MD5\n",
    "import hashlib\n",
    "from itertools import cycle\n",
    "\n",
    "BUCKET_NAME = \"bucket-demo\"\n",
    "\n",
    "# Note: AIS-ETLs require Kubernetes.\n",
    "client = Client(\"http://192.168.49.2:8080\")\n",
    "\n",
    "\n",
    "# ETL w/ Code\n",
    "def transform(input_bytes):\n",
    "    md5 = hashlib.md5()\n",
    "    md5.update(input_bytes)\n",
    "    return md5.hexdigest().encode()\n",
    "\n",
    "\n",
    "client.etl().init_code(transform=transform, etl_id=\"etl-code-demo\")\n",
    "\n",
    "\n",
    "# ETL w/ Spec\n",
    "template = MD5.format(communication_type=\"hpush\")\n",
    "client.etl().init_spec(template=template, etl_id=\"etl-spec-demo\")"
   ]
  },
  {
   "cell_type": "markdown",
   "id": "888ad4ee",
   "metadata": {},
   "source": [
    "### List ETLs"
   ]
  },
  {
   "cell_type": "code",
   "execution_count": 2,
   "id": "4f001731",
   "metadata": {},
   "outputs": [
    {
     "data": {
      "text/plain": [
       "[ETL(id='etl-code-demo', obj_count=0, in_bytes=0, out_bytes=0),\n",
       " ETL(id='etl-spec-demo', obj_count=0, in_bytes=0, out_bytes=0)]"
      ]
     },
     "execution_count": 2,
     "metadata": {},
     "output_type": "execute_result"
    }
   ],
   "source": [
    "# Verify ETLs are running\n",
    "client.etl().list()"
   ]
  },
  {
   "cell_type": "markdown",
   "id": "2a0d8e79",
   "metadata": {},
   "source": [
    "### View ETLs"
   ]
  },
  {
   "cell_type": "code",
   "execution_count": 3,
   "id": "030e8611",
   "metadata": {},
   "outputs": [
    {
     "data": {
      "text/plain": [
       "ETLDetails(id='etl-code-demo', communication='hpush://', timeout='5m', code=b\"\\nimport pickle\\nimport base64\\n\\ntransform = pickle.loads(base64.b64decode('gAWVMwIAAAAAAACMF2Nsb3VkcGlja2xlLmNsb3VkcGlja2xllIwNX2J1aWx0aW5fdHlwZZSTlIwKTGFtYmRhVHlwZZSFlFKUKGgCjAhDb2RlVHlwZZSFlFKUKEsBSwBLAEsCSwNLQ0MedACgAaEAfQF8AaACfAChAQEAfAGgA6EAoAShAFMAlE6FlCiMB2hhc2hsaWKUjANtZDWUjAZ1cGRhdGWUjAloZXhkaWdlc3SUjAZlbmNvZGWUdJSMC2lucHV0X2J5dGVzlGgMhpSMIy90bXAvaXB5a2VybmVsXzM0NTc4Ni8xNDEwMzkyNTA4LnB5lIwJdHJhbnNmb3JtlEsNQwYIAQoBDAGUKSl0lFKUfZQojAtfX3BhY2thZ2VfX5ROjAhfX25hbWVfX5SMCF9fbWFpbl9flHVOTk50lFKUjBxjbG91ZHBpY2tsZS5jbG91ZHBpY2tsZV9mYXN0lIwSX2Z1bmN0aW9uX3NldHN0YXRllJOUaB19lH2UKGgaaBSMDF9fcXVhbG5hbWVfX5RoFIwPX19hbm5vdGF0aW9uc19flH2UjA5fX2t3ZGVmYXVsdHNfX5ROjAxfX2RlZmF1bHRzX1+UTowKX19tb2R1bGVfX5RoG4wHX19kb2NfX5ROjAtfX2Nsb3N1cmVfX5ROjBdfY2xvdWRwaWNrbGVfc3VibW9kdWxlc5RdlIwLX19nbG9iYWxzX1+UfZRoC2gAjAlzdWJpbXBvcnSUk5RoC4WUUpRzdYaUhlIwLg=='))\\n\\n\", spec=None, dependencies='Y2xvdWRwaWNrbGU9PTIuMC4w', runtime='python3.8v2', chunk_size=0)"
      ]
     },
     "execution_count": 3,
     "metadata": {},
     "output_type": "execute_result"
    }
   ],
   "source": [
    "client.etl().view(etl_id=\"etl-code-demo\")"
   ]
  },
  {
   "cell_type": "code",
   "execution_count": 4,
   "id": "80903c9e",
   "metadata": {},
   "outputs": [
    {
     "data": {
      "text/plain": [
       "ETLDetails(id='etl-spec-demo', communication='hpush://', timeout='5m', code=None, spec=b'\\napiVersion: v1\\nkind: Pod\\nmetadata:\\n  name: transformer-md5\\n  annotations:\\n    # Values it can take [\"hpull://\",\"hrev://\",\"hpush://\"]\\n    communication_type: \"hpush://\"\\n    wait_timeout: 5m\\nspec:\\n  containers:\\n    - name: server\\n      image: aistore/transformer_md5:latest\\n      imagePullPolicy: IfNotPresent\\n      ports:\\n        - name: default\\n          containerPort: 80\\n      command: [\\'/code/server.py\\', \\'--listen\\', \\'0.0.0.0\\', \\'--port\\', \\'80\\']\\n      readinessProbe:\\n        httpGet:\\n          path: /health\\n          port: default\\n', dependencies=None, runtime='python3.8v2', chunk_size=0)"
      ]
     },
     "execution_count": 4,
     "metadata": {},
     "output_type": "execute_result"
    }
   ],
   "source": [
    "client.etl().view(etl_id=\"etl-spec-demo\")"
   ]
  },
  {
   "cell_type": "markdown",
   "id": "f7813f98",
   "metadata": {},
   "source": [
    "### Get Object w/ ETL Transformation"
   ]
  },
  {
   "cell_type": "code",
   "execution_count": 5,
   "id": "aeb15852",
   "metadata": {},
   "outputs": [],
   "source": [
    "import random\n",
    "import string\n",
    "import tempfile\n",
    "\n",
    "\n",
    "def create_and_put_object(\n",
    "    client: Client,\n",
    "    bck_name: str,\n",
    "    obj_name: str,\n",
    "    provider: str = \"ais\",\n",
    "    obj_size: int = 0,\n",
    "):\n",
    "    obj_size = obj_size if obj_size else random.randrange(10, 20)\n",
    "    obj_body = \"\".join(random.choices(string.ascii_letters, k=obj_size))\n",
    "    content = obj_body.encode(\"utf-8\")\n",
    "    with tempfile.NamedTemporaryFile() as file:\n",
    "        file.write(content)\n",
    "        file.flush()\n",
    "        client.bucket(bck_name, provider=provider).object(obj_name).put(file.name)\n",
    "    return content"
   ]
  },
  {
   "cell_type": "code",
   "execution_count": 6,
   "id": "56256969",
   "metadata": {},
   "outputs": [],
   "source": [
    "client.bucket(bck_name=BUCKET_NAME).create()\n",
    "content = create_and_put_object(\n",
    "    client=client, bck_name=BUCKET_NAME, obj_name=\"object-demo.jpg\"\n",
    ")"
   ]
  },
  {
   "cell_type": "code",
   "execution_count": 7,
   "id": "44cb809c",
   "metadata": {},
   "outputs": [
    {
     "data": {
      "text/plain": [
       "b'8bd7cac0c8eb6ee6eccc23ac0fc1ad60'"
      ]
     },
     "execution_count": 7,
     "metadata": {},
     "output_type": "execute_result"
    }
   ],
   "source": [
    "# Get object w/ ETL code transformation\n",
    "client.bucket(BUCKET_NAME).object(\"object-demo.jpg\").get(\n",
    "    etl_id=\"etl-code-demo\"\n",
    ").read_all()"
   ]
  },
  {
   "cell_type": "code",
   "execution_count": 8,
   "id": "3c485bf1",
   "metadata": {},
   "outputs": [
    {
     "data": {
      "text/plain": [
       "b'8bd7cac0c8eb6ee6eccc23ac0fc1ad60'"
      ]
     },
     "execution_count": 8,
     "metadata": {},
     "output_type": "execute_result"
    }
   ],
   "source": [
    "# Get object w/ ETL spec transformation\n",
    "client.bucket(BUCKET_NAME).object(\"object-demo.jpg\").get(\n",
    "    etl_id=\"etl-spec-demo\"\n",
    ").read_all()"
   ]
  },
  {
   "cell_type": "markdown",
   "id": "52656fc1",
   "metadata": {},
   "source": [
    "### Transform Bucket w/ ETL Transformation"
   ]
  },
  {
   "cell_type": "code",
   "execution_count": 9,
   "id": "6760478f",
   "metadata": {},
   "outputs": [
    {
     "data": {
      "text/plain": [
       "'kCBPKCheX'"
      ]
     },
     "execution_count": 9,
     "metadata": {},
     "output_type": "execute_result"
    }
   ],
   "source": [
    "# Create bucket to store transformed objects\n",
    "client.bucket(\"transform-destination-bucket\").create()\n",
    "\n",
    "# Transform bucket contents (w/ on-the-fly object renames)\n",
    "client.bucket(BUCKET_NAME).transform(\n",
    "    etl_id=\"etl-spec-demo\",\n",
    "    to_bck=\"transform-destination-bucket\",\n",
    "    prefix=\"transformed-\",\n",
    "    ext={\"jpg\": \"txt\"},\n",
    ")"
   ]
  },
  {
   "cell_type": "code",
   "execution_count": 10,
   "id": "db8ccf1a",
   "metadata": {},
   "outputs": [
    {
     "data": {
      "text/plain": [
       "[BucketEntry(name='transformed-object-demo.txt', size=32, checksum='3d8a221c47994975', atime='26 Sep 22 22:21 UTC', version='', target_url='', copies=0, flags=64)]"
      ]
     },
     "execution_count": 10,
     "metadata": {},
     "output_type": "execute_result"
    }
   ],
   "source": [
    "# Verify rename operations for transformed objects\n",
    "client.bucket(\"transform-destination-bucket\").list_objects().get_entries()"
   ]
  },
  {
   "cell_type": "markdown",
   "id": "a1a2e8ae",
   "metadata": {},
   "source": [
    "### Stop ETLs"
   ]
  },
  {
   "cell_type": "code",
   "execution_count": 11,
   "id": "b7ab064f",
   "metadata": {},
   "outputs": [],
   "source": [
    "client.etl().stop(etl_id=\"etl-code-demo\")\n",
    "client.etl().stop(etl_id=\"etl-spec-demo\")"
   ]
  },
  {
   "cell_type": "markdown",
   "id": "9beb3d0f",
   "metadata": {},
   "source": [
    "### Restart Stopped ETLs"
   ]
  },
  {
   "cell_type": "code",
   "execution_count": 12,
   "id": "cea3c373",
   "metadata": {},
   "outputs": [],
   "source": [
    "client.etl().start(etl_id=\"etl-code-demo\")\n",
    "client.etl().start(etl_id=\"etl-spec-demo\")"
   ]
  },
  {
   "cell_type": "markdown",
   "id": "e1fb0a93",
   "metadata": {},
   "source": [
    "### Stop & Delete ETLs"
   ]
  },
  {
   "cell_type": "code",
   "execution_count": 13,
   "id": "bc33c20e",
   "metadata": {},
   "outputs": [],
   "source": [
    "client.etl().stop(etl_id=\"etl-code-demo\")\n",
    "client.etl().stop(etl_id=\"etl-spec-demo\")\n",
    "\n",
    "client.etl().delete(etl_id=\"etl-code-demo\")\n",
    "client.etl().delete(etl_id=\"etl-spec-demo\")"
   ]
  },
  {
   "cell_type": "markdown",
   "id": "7aaf1c52",
   "metadata": {},
   "source": [
    "### Starting Deleted ETL Raises Exception"
   ]
  },
  {
   "cell_type": "code",
   "execution_count": 14,
   "id": "cf2a938a",
   "metadata": {},
   "outputs": [
    {
     "ename": "AISError",
     "evalue": "STATUS:404, MESSAGE:p[RGCuHzVH]: etl UUID etl-code-demo does not exist",
     "output_type": "error",
     "traceback": [
      "\u001b[0;31m---------------------------------------------------------------------------\u001b[0m",
      "\u001b[0;31mAISError\u001b[0m                                  Traceback (most recent call last)",
      "Cell \u001b[0;32mIn [14], line 1\u001b[0m\n\u001b[0;32m----> 1\u001b[0m \u001b[43mclient\u001b[49m\u001b[38;5;241;43m.\u001b[39;49m\u001b[43metl\u001b[49m\u001b[43m(\u001b[49m\u001b[43m)\u001b[49m\u001b[38;5;241;43m.\u001b[39;49m\u001b[43mstart\u001b[49m\u001b[43m(\u001b[49m\u001b[43metl_id\u001b[49m\u001b[38;5;241;43m=\u001b[39;49m\u001b[38;5;124;43m\"\u001b[39;49m\u001b[38;5;124;43metl-code-demo\u001b[39;49m\u001b[38;5;124;43m\"\u001b[39;49m\u001b[43m)\u001b[49m\n",
      "File \u001b[0;32m~/go/src/github.com/NVIDIA/aistore/python/aistore/sdk/etl.py:171\u001b[0m, in \u001b[0;36mEtl.start\u001b[0;34m(self, etl_id)\u001b[0m\n\u001b[1;32m    160\u001b[0m \u001b[38;5;28;01mdef\u001b[39;00m \u001b[38;5;21mstart\u001b[39m(\u001b[38;5;28mself\u001b[39m, etl_id: \u001b[38;5;28mstr\u001b[39m):\n\u001b[1;32m    161\u001b[0m     \u001b[38;5;124;03m\"\"\"\u001b[39;00m\n\u001b[1;32m    162\u001b[0m \u001b[38;5;124;03m    Resumes a stopped ETL with given ETL_ID.\u001b[39;00m\n\u001b[1;32m    163\u001b[0m \n\u001b[0;32m   (...)\u001b[0m\n\u001b[1;32m    169\u001b[0m \u001b[38;5;124;03m        Nothing\u001b[39;00m\n\u001b[1;32m    170\u001b[0m \u001b[38;5;124;03m    \"\"\"\u001b[39;00m\n\u001b[0;32m--> 171\u001b[0m     \u001b[38;5;28;43mself\u001b[39;49m\u001b[38;5;241;43m.\u001b[39;49m\u001b[43mclient\u001b[49m\u001b[38;5;241;43m.\u001b[39;49m\u001b[43mrequest\u001b[49m\u001b[43m(\u001b[49m\u001b[43mHTTP_METHOD_POST\u001b[49m\u001b[43m,\u001b[49m\u001b[43m \u001b[49m\u001b[43mpath\u001b[49m\u001b[38;5;241;43m=\u001b[39;49m\u001b[38;5;124;43mf\u001b[39;49m\u001b[38;5;124;43m\"\u001b[39;49m\u001b[38;5;124;43metl/\u001b[39;49m\u001b[38;5;132;43;01m{\u001b[39;49;00m\u001b[43m \u001b[49m\u001b[43metl_id\u001b[49m\u001b[43m \u001b[49m\u001b[38;5;132;43;01m}\u001b[39;49;00m\u001b[38;5;124;43m/start\u001b[39;49m\u001b[38;5;124;43m\"\u001b[39;49m\u001b[43m)\u001b[49m\n",
      "File \u001b[0;32m~/go/src/github.com/NVIDIA/aistore/python/aistore/sdk/api.py:65\u001b[0m, in \u001b[0;36mClient.request\u001b[0;34m(self, method, path, **kwargs)\u001b[0m\n\u001b[1;32m     61\u001b[0m resp \u001b[38;5;241m=\u001b[39m \u001b[38;5;28mself\u001b[39m\u001b[38;5;241m.\u001b[39msession\u001b[38;5;241m.\u001b[39mrequest(\n\u001b[1;32m     62\u001b[0m     method, url, headers\u001b[38;5;241m=\u001b[39m{\u001b[38;5;124m\"\u001b[39m\u001b[38;5;124mAccept\u001b[39m\u001b[38;5;124m\"\u001b[39m: \u001b[38;5;124m\"\u001b[39m\u001b[38;5;124mapplication/json\u001b[39m\u001b[38;5;124m\"\u001b[39m}, \u001b[38;5;241m*\u001b[39m\u001b[38;5;241m*\u001b[39mkwargs\n\u001b[1;32m     63\u001b[0m )\n\u001b[1;32m     64\u001b[0m \u001b[38;5;28;01mif\u001b[39;00m resp\u001b[38;5;241m.\u001b[39mstatus_code \u001b[38;5;241m<\u001b[39m \u001b[38;5;241m200\u001b[39m \u001b[38;5;129;01mor\u001b[39;00m resp\u001b[38;5;241m.\u001b[39mstatus_code \u001b[38;5;241m>\u001b[39m\u001b[38;5;241m=\u001b[39m \u001b[38;5;241m300\u001b[39m:\n\u001b[0;32m---> 65\u001b[0m     \u001b[43mhandle_errors\u001b[49m\u001b[43m(\u001b[49m\u001b[43mresp\u001b[49m\u001b[43m)\u001b[49m\n\u001b[1;32m     66\u001b[0m \u001b[38;5;28;01mreturn\u001b[39;00m resp\n",
      "File \u001b[0;32m~/go/src/github.com/NVIDIA/aistore/python/aistore/sdk/utils.py:38\u001b[0m, in \u001b[0;36mhandle_errors\u001b[0;34m(resp)\u001b[0m\n\u001b[1;32m     36\u001b[0m         error_text \u001b[38;5;241m=\u001b[39m error_text\u001b[38;5;241m.\u001b[39mdecode(\u001b[38;5;124m\"\u001b[39m\u001b[38;5;124miso-8859-1\u001b[39m\u001b[38;5;124m\"\u001b[39m)\n\u001b[1;32m     37\u001b[0m \u001b[38;5;28;01mif\u001b[39;00m error_text \u001b[38;5;241m!=\u001b[39m \u001b[38;5;124m\"\u001b[39m\u001b[38;5;124m\"\u001b[39m:\n\u001b[0;32m---> 38\u001b[0m     \u001b[43m_raise_error\u001b[49m\u001b[43m(\u001b[49m\u001b[43merror_text\u001b[49m\u001b[43m)\u001b[49m\n\u001b[1;32m     39\u001b[0m resp\u001b[38;5;241m.\u001b[39mraise_for_status()\n",
      "File \u001b[0;32m~/go/src/github.com/NVIDIA/aistore/python/aistore/sdk/utils.py:20\u001b[0m, in \u001b[0;36m_raise_error\u001b[0;34m(text)\u001b[0m\n\u001b[1;32m     18\u001b[0m         \u001b[38;5;28;01mif\u001b[39;00m \u001b[38;5;124m\"\u001b[39m\u001b[38;5;124mbucket\u001b[39m\u001b[38;5;124m\"\u001b[39m \u001b[38;5;129;01min\u001b[39;00m err\u001b[38;5;241m.\u001b[39mmessage:\n\u001b[1;32m     19\u001b[0m             \u001b[38;5;28;01mraise\u001b[39;00m ErrBckNotFound(err\u001b[38;5;241m.\u001b[39mstatus, err\u001b[38;5;241m.\u001b[39mmessage)\n\u001b[0;32m---> 20\u001b[0m \u001b[38;5;28;01mraise\u001b[39;00m AISError(err\u001b[38;5;241m.\u001b[39mstatus, err\u001b[38;5;241m.\u001b[39mmessage)\n",
      "\u001b[0;31mAISError\u001b[0m: STATUS:404, MESSAGE:p[RGCuHzVH]: etl UUID etl-code-demo does not exist"
     ]
    }
   ],
   "source": [
    "client.etl().start(etl_id=\"etl-code-demo\")"
   ]
  },
  {
   "cell_type": "code",
   "execution_count": 15,
   "id": "02fa415c",
   "metadata": {},
   "outputs": [
    {
     "ename": "AISError",
     "evalue": "STATUS:404, MESSAGE:p[RGCuHzVH]: etl UUID etl-spec-demo does not exist",
     "output_type": "error",
     "traceback": [
      "\u001b[0;31m---------------------------------------------------------------------------\u001b[0m",
      "\u001b[0;31mAISError\u001b[0m                                  Traceback (most recent call last)",
      "Cell \u001b[0;32mIn [15], line 1\u001b[0m\n\u001b[0;32m----> 1\u001b[0m \u001b[43mclient\u001b[49m\u001b[38;5;241;43m.\u001b[39;49m\u001b[43metl\u001b[49m\u001b[43m(\u001b[49m\u001b[43m)\u001b[49m\u001b[38;5;241;43m.\u001b[39;49m\u001b[43mstart\u001b[49m\u001b[43m(\u001b[49m\u001b[43metl_id\u001b[49m\u001b[38;5;241;43m=\u001b[39;49m\u001b[38;5;124;43m\"\u001b[39;49m\u001b[38;5;124;43metl-spec-demo\u001b[39;49m\u001b[38;5;124;43m\"\u001b[39;49m\u001b[43m)\u001b[49m\n",
      "File \u001b[0;32m~/go/src/github.com/NVIDIA/aistore/python/aistore/sdk/etl.py:171\u001b[0m, in \u001b[0;36mEtl.start\u001b[0;34m(self, etl_id)\u001b[0m\n\u001b[1;32m    160\u001b[0m \u001b[38;5;28;01mdef\u001b[39;00m \u001b[38;5;21mstart\u001b[39m(\u001b[38;5;28mself\u001b[39m, etl_id: \u001b[38;5;28mstr\u001b[39m):\n\u001b[1;32m    161\u001b[0m     \u001b[38;5;124;03m\"\"\"\u001b[39;00m\n\u001b[1;32m    162\u001b[0m \u001b[38;5;124;03m    Resumes a stopped ETL with given ETL_ID.\u001b[39;00m\n\u001b[1;32m    163\u001b[0m \n\u001b[0;32m   (...)\u001b[0m\n\u001b[1;32m    169\u001b[0m \u001b[38;5;124;03m        Nothing\u001b[39;00m\n\u001b[1;32m    170\u001b[0m \u001b[38;5;124;03m    \"\"\"\u001b[39;00m\n\u001b[0;32m--> 171\u001b[0m     \u001b[38;5;28;43mself\u001b[39;49m\u001b[38;5;241;43m.\u001b[39;49m\u001b[43mclient\u001b[49m\u001b[38;5;241;43m.\u001b[39;49m\u001b[43mrequest\u001b[49m\u001b[43m(\u001b[49m\u001b[43mHTTP_METHOD_POST\u001b[49m\u001b[43m,\u001b[49m\u001b[43m \u001b[49m\u001b[43mpath\u001b[49m\u001b[38;5;241;43m=\u001b[39;49m\u001b[38;5;124;43mf\u001b[39;49m\u001b[38;5;124;43m\"\u001b[39;49m\u001b[38;5;124;43metl/\u001b[39;49m\u001b[38;5;132;43;01m{\u001b[39;49;00m\u001b[43m \u001b[49m\u001b[43metl_id\u001b[49m\u001b[43m \u001b[49m\u001b[38;5;132;43;01m}\u001b[39;49;00m\u001b[38;5;124;43m/start\u001b[39;49m\u001b[38;5;124;43m\"\u001b[39;49m\u001b[43m)\u001b[49m\n",
      "File \u001b[0;32m~/go/src/github.com/NVIDIA/aistore/python/aistore/sdk/api.py:65\u001b[0m, in \u001b[0;36mClient.request\u001b[0;34m(self, method, path, **kwargs)\u001b[0m\n\u001b[1;32m     61\u001b[0m resp \u001b[38;5;241m=\u001b[39m \u001b[38;5;28mself\u001b[39m\u001b[38;5;241m.\u001b[39msession\u001b[38;5;241m.\u001b[39mrequest(\n\u001b[1;32m     62\u001b[0m     method, url, headers\u001b[38;5;241m=\u001b[39m{\u001b[38;5;124m\"\u001b[39m\u001b[38;5;124mAccept\u001b[39m\u001b[38;5;124m\"\u001b[39m: \u001b[38;5;124m\"\u001b[39m\u001b[38;5;124mapplication/json\u001b[39m\u001b[38;5;124m\"\u001b[39m}, \u001b[38;5;241m*\u001b[39m\u001b[38;5;241m*\u001b[39mkwargs\n\u001b[1;32m     63\u001b[0m )\n\u001b[1;32m     64\u001b[0m \u001b[38;5;28;01mif\u001b[39;00m resp\u001b[38;5;241m.\u001b[39mstatus_code \u001b[38;5;241m<\u001b[39m \u001b[38;5;241m200\u001b[39m \u001b[38;5;129;01mor\u001b[39;00m resp\u001b[38;5;241m.\u001b[39mstatus_code \u001b[38;5;241m>\u001b[39m\u001b[38;5;241m=\u001b[39m \u001b[38;5;241m300\u001b[39m:\n\u001b[0;32m---> 65\u001b[0m     \u001b[43mhandle_errors\u001b[49m\u001b[43m(\u001b[49m\u001b[43mresp\u001b[49m\u001b[43m)\u001b[49m\n\u001b[1;32m     66\u001b[0m \u001b[38;5;28;01mreturn\u001b[39;00m resp\n",
      "File \u001b[0;32m~/go/src/github.com/NVIDIA/aistore/python/aistore/sdk/utils.py:38\u001b[0m, in \u001b[0;36mhandle_errors\u001b[0;34m(resp)\u001b[0m\n\u001b[1;32m     36\u001b[0m         error_text \u001b[38;5;241m=\u001b[39m error_text\u001b[38;5;241m.\u001b[39mdecode(\u001b[38;5;124m\"\u001b[39m\u001b[38;5;124miso-8859-1\u001b[39m\u001b[38;5;124m\"\u001b[39m)\n\u001b[1;32m     37\u001b[0m \u001b[38;5;28;01mif\u001b[39;00m error_text \u001b[38;5;241m!=\u001b[39m \u001b[38;5;124m\"\u001b[39m\u001b[38;5;124m\"\u001b[39m:\n\u001b[0;32m---> 38\u001b[0m     \u001b[43m_raise_error\u001b[49m\u001b[43m(\u001b[49m\u001b[43merror_text\u001b[49m\u001b[43m)\u001b[49m\n\u001b[1;32m     39\u001b[0m resp\u001b[38;5;241m.\u001b[39mraise_for_status()\n",
      "File \u001b[0;32m~/go/src/github.com/NVIDIA/aistore/python/aistore/sdk/utils.py:20\u001b[0m, in \u001b[0;36m_raise_error\u001b[0;34m(text)\u001b[0m\n\u001b[1;32m     18\u001b[0m         \u001b[38;5;28;01mif\u001b[39;00m \u001b[38;5;124m\"\u001b[39m\u001b[38;5;124mbucket\u001b[39m\u001b[38;5;124m\"\u001b[39m \u001b[38;5;129;01min\u001b[39;00m err\u001b[38;5;241m.\u001b[39mmessage:\n\u001b[1;32m     19\u001b[0m             \u001b[38;5;28;01mraise\u001b[39;00m ErrBckNotFound(err\u001b[38;5;241m.\u001b[39mstatus, err\u001b[38;5;241m.\u001b[39mmessage)\n\u001b[0;32m---> 20\u001b[0m \u001b[38;5;28;01mraise\u001b[39;00m AISError(err\u001b[38;5;241m.\u001b[39mstatus, err\u001b[38;5;241m.\u001b[39mmessage)\n",
      "\u001b[0;31mAISError\u001b[0m: STATUS:404, MESSAGE:p[RGCuHzVH]: etl UUID etl-spec-demo does not exist"
     ]
    }
   ],
   "source": [
    "client.etl().start(etl_id=\"etl-spec-demo\")"
   ]
  },
  {
   "cell_type": "markdown",
   "id": "278ecb98",
   "metadata": {},
   "source": [
    "### Initialize ETL XOR+Checksum with streaming data"
   ]
  },
  {
   "cell_type": "code",
   "execution_count": 16,
   "id": "97214ac4",
   "metadata": {},
   "outputs": [],
   "source": [
    "content = create_and_put_object(\n",
    "    client=client, bck_name=BUCKET_NAME, obj_name=\"object-xor-demo.jpg\", obj_size=256\n",
    ")"
   ]
  },
  {
   "cell_type": "code",
   "execution_count": 17,
   "id": "92cce61e",
   "metadata": {},
   "outputs": [
    {
     "data": {
      "text/plain": [
       "'xor-md5-stream'"
      ]
     },
     "execution_count": 17,
     "metadata": {},
     "output_type": "execute_result"
    }
   ],
   "source": [
    "def transform(reader, writer):\n",
    "    checksum = hashlib.md5()\n",
    "    key = b\"AISTORE\"\n",
    "    for b in reader:\n",
    "        out = bytes([_a ^ _b for _a, _b in zip(b, cycle(key))])\n",
    "        writer.write(out)\n",
    "        checksum.update(out)\n",
    "    writer.write(checksum.hexdigest().encode())\n",
    "\n",
    "\n",
    "client.etl().init_code(\n",
    "    transform=transform,\n",
    "    etl_id=\"xor-md5-stream\",\n",
    "    chunk_size=32,\n",
    ")"
   ]
  },
  {
   "cell_type": "code",
   "execution_count": 18,
   "id": "bf6adb91",
   "metadata": {},
   "outputs": [
    {
     "data": {
      "text/plain": [
       "True"
      ]
     },
     "execution_count": 18,
     "metadata": {},
     "output_type": "execute_result"
    }
   ],
   "source": [
    "# Get object w/ XOR+Checksum ETL and verify checksum\n",
    "xor_obj = (\n",
    "    client.bucket(BUCKET_NAME)\n",
    "    .object(\"object-xor-demo.jpg\")\n",
    "    .get(etl_id=\"xor-md5-stream\")\n",
    "    .read_all()\n",
    ")\n",
    "data, checksum = xor_obj[:-32], xor_obj[-32:]\n",
    "computed_checksum = hashlib.md5(data).hexdigest().encode()\n",
    "computed_checksum == checksum"
   ]
  },
  {
   "cell_type": "code",
   "execution_count": 19,
   "id": "23ac67da",
   "metadata": {},
   "outputs": [],
   "source": [
    "client.etl().stop(etl_id=\"xor-md5-stream\")\n",
    "client.etl().delete(etl_id=\"xor-md5-stream\")"
   ]
  },
  {
   "cell_type": "code",
   "execution_count": 20,
   "id": "df22f16c",
   "metadata": {},
   "outputs": [],
   "source": [
    "# Cleanup buckets\n",
    "for bucket in client.cluster().list_buckets():\n",
    "    client.bucket(bucket.name).delete()"
   ]
  },
  {
   "cell_type": "code",
   "execution_count": null,
   "id": "7a4bf411",
   "metadata": {},
   "outputs": [],
   "source": []
  }
 ],
 "metadata": {
  "kernelspec": {
   "display_name": "Python 3 (ipykernel)",
   "language": "python",
   "name": "python3"
  },
  "language_info": {
   "codemirror_mode": {
    "name": "ipython",
    "version": 3
   },
   "file_extension": ".py",
   "mimetype": "text/x-python",
   "name": "python",
   "nbconvert_exporter": "python",
   "pygments_lexer": "ipython3",
   "version": "3.8.10"
  },
  "vscode": {
   "interpreter": {
    "hash": "916dbcbb3f70747c44a77c7bcd40155683ae19c65e1c03b4aa3499c5328201f1"
   }
  }
 },
 "nbformat": 4,
 "nbformat_minor": 5
}
