{
 "cells": [
  {
   "cell_type": "markdown",
   "id": "9566debc",
   "metadata": {},
   "source": [
    "# AIStore Python SDK Tutorial"
   ]
  },
  {
   "cell_type": "code",
   "execution_count": 11,
   "id": "6cfce8fb",
   "metadata": {},
   "outputs": [],
   "source": [
    "from aistore import Client\n",
    "import tempfile"
   ]
  },
  {
   "cell_type": "markdown",
   "id": "f04ebaa0",
   "metadata": {},
   "source": [
    "### Initialize client"
   ]
  },
  {
   "cell_type": "code",
   "execution_count": 12,
   "id": "e509f4a1",
   "metadata": {},
   "outputs": [
    {
     "data": {
      "text/plain": [
       "True"
      ]
     },
     "execution_count": 12,
     "metadata": {},
     "output_type": "execute_result"
    }
   ],
   "source": [
    "client = Client(\"http://localhost:8080\")\n",
    "\n",
    "# Check if AIStore is running\n",
    "client.cluster().is_aistore_running()"
   ]
  },
  {
   "cell_type": "markdown",
   "id": "9afc4681",
   "metadata": {},
   "source": [
    "### CREATE bucket"
   ]
  },
  {
   "cell_type": "code",
   "execution_count": 13,
   "id": "05e05426",
   "metadata": {
    "scrolled": true
   },
   "outputs": [],
   "source": [
    "BUCKET_NAME = \"sdk_test\"\n",
    "client.bucket(BUCKET_NAME).create()"
   ]
  },
  {
   "cell_type": "markdown",
   "id": "1b7b41f6",
   "metadata": {},
   "source": [
    "Let's now view the newly create bucket"
   ]
  },
  {
   "cell_type": "code",
   "execution_count": 14,
   "id": "27e0d8c8",
   "metadata": {},
   "outputs": [
    {
     "data": {
      "text/plain": [
       "[Bck(name='sdk_test', provider='ais', ns=None)]"
      ]
     },
     "execution_count": 14,
     "metadata": {},
     "output_type": "execute_result"
    }
   ],
   "source": [
    "client.cluster().list_buckets()"
   ]
  },
  {
   "cell_type": "markdown",
   "id": "b292f88f",
   "metadata": {},
   "source": [
    "### PUT objects"
   ]
  },
  {
   "cell_type": "code",
   "execution_count": 15,
   "id": "b946f1cf",
   "metadata": {},
   "outputs": [],
   "source": [
    "num_objs = 10\n",
    "for i in range(num_objs):\n",
    "    s = f\"test string {i}\"\n",
    "    content = s.encode(\"utf-8\")\n",
    "    obj_name = f\"obj-{i}\"\n",
    "    with tempfile.NamedTemporaryFile() as f:\n",
    "        f.write(content)\n",
    "        f.flush()\n",
    "        # Observe the PUT call here\n",
    "        client.bucket(BUCKET_NAME).object(obj_name).put(f.name)"
   ]
  },
  {
   "cell_type": "markdown",
   "id": "7002e2d8",
   "metadata": {},
   "source": [
    "### LIST objects"
   ]
  },
  {
   "cell_type": "code",
   "execution_count": 16,
   "id": "48c79755",
   "metadata": {},
   "outputs": [
    {
     "data": {
      "text/plain": [
       "[BucketEntry(name='obj-0', size=13, checksum='e481a324680713f9', atime='15 Jul 22 15:17 UTC', version='', target_url='', copies=0, flags=64),\n",
       " BucketEntry(name='obj-1', size=13, checksum='6191419726003813', atime='15 Jul 22 15:17 UTC', version='', target_url='', copies=0, flags=64),\n",
       " BucketEntry(name='obj-2', size=13, checksum='9d69f9e9cd57d3e2', atime='15 Jul 22 15:17 UTC', version='', target_url='', copies=0, flags=64),\n",
       " BucketEntry(name='obj-3', size=13, checksum='b9a8eab36a741ace', atime='15 Jul 22 15:17 UTC', version='', target_url='', copies=0, flags=64),\n",
       " BucketEntry(name='obj-4', size=13, checksum='23b2ed9cc1371cf6', atime='15 Jul 22 15:17 UTC', version='', target_url='', copies=0, flags=64),\n",
       " BucketEntry(name='obj-5', size=13, checksum='7b8d59ae49b9be64', atime='15 Jul 22 15:17 UTC', version='', target_url='', copies=0, flags=64),\n",
       " BucketEntry(name='obj-6', size=13, checksum='5ae9217614999c65', atime='15 Jul 22 15:17 UTC', version='', target_url='', copies=0, flags=64),\n",
       " BucketEntry(name='obj-7', size=13, checksum='36b53e9de43747ae', atime='15 Jul 22 15:17 UTC', version='', target_url='', copies=0, flags=64),\n",
       " BucketEntry(name='obj-8', size=13, checksum='1dc37107ac5e4e7d', atime='15 Jul 22 15:17 UTC', version='', target_url='', copies=0, flags=64),\n",
       " BucketEntry(name='obj-9', size=13, checksum='682e439114cf39fc', atime='15 Jul 22 15:17 UTC', version='', target_url='', copies=0, flags=64)]"
      ]
     },
     "execution_count": 16,
     "metadata": {},
     "output_type": "execute_result"
    }
   ],
   "source": [
    "objects = client.bucket(BUCKET_NAME).list_objects().get_entries()\n",
    "assert len(objects) == num_objs\n",
    "objects"
   ]
  },
  {
   "cell_type": "markdown",
   "id": "3306829e",
   "metadata": {},
   "source": [
    "### HEAD object (to inspect its properties)"
   ]
  },
  {
   "cell_type": "code",
   "execution_count": 17,
   "id": "df099d44",
   "metadata": {},
   "outputs": [
    {
     "data": {
      "text/plain": [
       "{'Ais-Atime': '1657898272010718866', 'Ais-Bucket-Name': 'sdk_test', 'Ais-Bucket-Provider': 'ais', 'Ais-Checksum-Type': 'xxhash', 'Ais-Checksum-Value': 'e481a324680713f9', 'Ais-Daemon-Id': 'JCkTMNzN', 'Ais-Mirror-Copies': '1', 'Ais-Mirror-Paths': '[/ais/disk0]', 'Ais-Name': 'obj-0', 'Ais-Present': 'true', 'Ais-Version': '1', 'Content-Length': '13', 'Date': 'Fri, 15 Jul 2022 15:17:52 GMT'}"
      ]
     },
     "execution_count": 17,
     "metadata": {},
     "output_type": "execute_result"
    }
   ],
   "source": [
    "client.bucket(BUCKET_NAME).object(objects[0].name).head()"
   ]
  },
  {
   "cell_type": "markdown",
   "id": "90833dea",
   "metadata": {},
   "source": [
    "### GET object"
   ]
  },
  {
   "cell_type": "code",
   "execution_count": 18,
   "id": "eb89edfd",
   "metadata": {},
   "outputs": [
    {
     "data": {
      "text/plain": [
       "'test string 0'"
      ]
     },
     "execution_count": 18,
     "metadata": {},
     "output_type": "execute_result"
    }
   ],
   "source": [
    "client.bucket(BUCKET_NAME).object(objects[0].name).get().read_all().decode()"
   ]
  },
  {
   "cell_type": "markdown",
   "id": "7cc224da",
   "metadata": {},
   "source": [
    "### DELETE object"
   ]
  },
  {
   "cell_type": "code",
   "execution_count": 19,
   "id": "e6e868b9",
   "metadata": {},
   "outputs": [],
   "source": [
    "client.bucket(BUCKET_NAME).object(objects[0].name).delete()"
   ]
  },
  {
   "cell_type": "markdown",
   "id": "5eddf175",
   "metadata": {},
   "source": [
    "### Trying to GET deleted object raises an exception"
   ]
  },
  {
   "cell_type": "code",
   "execution_count": 20,
   "id": "4a2e45bf",
   "metadata": {},
   "outputs": [
    {
     "ename": "AISError",
     "evalue": "STATUS:404, MESSAGE:t[JCkTMNzN]: sdk_test/obj-0 does not exist",
     "output_type": "error",
     "traceback": [
      "\u001B[0;31m---------------------------------------------------------------------------\u001B[0m",
      "\u001B[0;31mAISError\u001B[0m                                  Traceback (most recent call last)",
      "\u001B[1;32m/home/ryan/go/src/github.com/NVIDIA/aistore/python/aistore/sdk/sdk-tutorial.ipynb Cell 20'\u001B[0m in \u001B[0;36m<cell line: 1>\u001B[0;34m()\u001B[0m\n\u001B[0;32m----> <a href='vscode-notebook-cell:/home/ryan/go/src/github.com/NVIDIA/aistore/python/aistore/examples/sdk/sdk-tutorial.ipynb#ch0000019?line=0'>1</a>\u001B[0m client\u001B[39m.\u001B[39;49mbucket(BUCKET_NAME)\u001B[39m.\u001B[39;49mobject(objects[\u001B[39m0\u001B[39;49m]\u001B[39m.\u001B[39;49mname)\u001B[39m.\u001B[39;49mget()\n",
      "File \u001B[0;32m~/go/src/github.com/NVIDIA/aistore/python/aistore/sdk/object.py:87\u001B[0m, in \u001B[0;36mObject.get\u001B[0;34m(self, archpath, chunk_size)\u001B[0m\n\u001B[1;32m     85\u001B[0m params \u001B[39m=\u001B[39m \u001B[39mself\u001B[39m\u001B[39m.\u001B[39mbck\u001B[39m.\u001B[39mqparam\n\u001B[1;32m     86\u001B[0m params[QParamArchpath] \u001B[39m=\u001B[39m archpath\n\u001B[0;32m---> 87\u001B[0m resp \u001B[39m=\u001B[39m \u001B[39mself\u001B[39;49m\u001B[39m.\u001B[39;49mbck\u001B[39m.\u001B[39;49mclient\u001B[39m.\u001B[39;49mrequest(HTTP_METHOD_GET, path\u001B[39m=\u001B[39;49m\u001B[39mf\u001B[39;49m\u001B[39m\"\u001B[39;49m\u001B[39mobjects/\u001B[39;49m\u001B[39m{\u001B[39;49;00m \u001B[39mself\u001B[39;49m\u001B[39m.\u001B[39;49mbck\u001B[39m.\u001B[39;49mname \u001B[39m}\u001B[39;49;00m\u001B[39m/\u001B[39;49m\u001B[39m{\u001B[39;49;00m \u001B[39mself\u001B[39;49m\u001B[39m.\u001B[39;49mobj_name \u001B[39m}\u001B[39;49;00m\u001B[39m\"\u001B[39;49m, params\u001B[39m=\u001B[39;49mparams, stream\u001B[39m=\u001B[39;49m\u001B[39mTrue\u001B[39;49;00m)\n\u001B[1;32m     88\u001B[0m length \u001B[39m=\u001B[39m \u001B[39mint\u001B[39m(resp\u001B[39m.\u001B[39mheaders\u001B[39m.\u001B[39mget(\u001B[39m\"\u001B[39m\u001B[39mcontent-length\u001B[39m\u001B[39m\"\u001B[39m, \u001B[39m0\u001B[39m))\n\u001B[1;32m     89\u001B[0m e_tag \u001B[39m=\u001B[39m resp\u001B[39m.\u001B[39mheaders\u001B[39m.\u001B[39mget(\u001B[39m\"\u001B[39m\u001B[39mais-checksum-value\u001B[39m\u001B[39m\"\u001B[39m, \u001B[39m\"\u001B[39m\u001B[39m\"\u001B[39m)\n",
      "File \u001B[0;32m~/go/src/github.com/NVIDIA/aistore/python/aistore/sdk/api.py:53\u001B[0m, in \u001B[0;36mClient.request\u001B[0;34m(self, method, path, **kwargs)\u001B[0m\n\u001B[1;32m     51\u001B[0m resp \u001B[39m=\u001B[39m \u001B[39mself\u001B[39m\u001B[39m.\u001B[39msession\u001B[39m.\u001B[39mrequest(method, url, headers\u001B[39m=\u001B[39m{\u001B[39m\"\u001B[39m\u001B[39mAccept\u001B[39m\u001B[39m\"\u001B[39m: \u001B[39m\"\u001B[39m\u001B[39mapplication/json\u001B[39m\u001B[39m\"\u001B[39m}, \u001B[39m*\u001B[39m\u001B[39m*\u001B[39mkwargs)\n\u001B[1;32m     52\u001B[0m \u001B[39mif\u001B[39;00m resp\u001B[39m.\u001B[39mstatus_code \u001B[39m<\u001B[39m \u001B[39m200\u001B[39m \u001B[39mor\u001B[39;00m resp\u001B[39m.\u001B[39mstatus_code \u001B[39m>\u001B[39m\u001B[39m=\u001B[39m \u001B[39m300\u001B[39m:\n\u001B[0;32m---> 53\u001B[0m     handle_errors(resp)\n\u001B[1;32m     54\u001B[0m \u001B[39mreturn\u001B[39;00m resp\n",
      "File \u001B[0;32m~/go/src/github.com/NVIDIA/aistore/python/aistore/sdk/utils.py:38\u001B[0m, in \u001B[0;36mhandle_errors\u001B[0;34m(resp)\u001B[0m\n\u001B[1;32m     36\u001B[0m         error_text \u001B[39m=\u001B[39m error_text\u001B[39m.\u001B[39mdecode(\u001B[39m'\u001B[39m\u001B[39miso-8859-1\u001B[39m\u001B[39m'\u001B[39m)\n\u001B[1;32m     37\u001B[0m \u001B[39mif\u001B[39;00m error_text \u001B[39m!=\u001B[39m \u001B[39m\"\u001B[39m\u001B[39m\"\u001B[39m:\n\u001B[0;32m---> 38\u001B[0m     _raise_error(error_text)\n\u001B[1;32m     39\u001B[0m resp\u001B[39m.\u001B[39mraise_for_status()\n",
      "File \u001B[0;32m~/go/src/github.com/NVIDIA/aistore/python/aistore/sdk/utils.py:20\u001B[0m, in \u001B[0;36m_raise_error\u001B[0;34m(text)\u001B[0m\n\u001B[1;32m     18\u001B[0m         \u001B[39mif\u001B[39;00m \u001B[39m\"\u001B[39m\u001B[39mbucket\u001B[39m\u001B[39m\"\u001B[39m \u001B[39min\u001B[39;00m err\u001B[39m.\u001B[39mmessage:\n\u001B[1;32m     19\u001B[0m             \u001B[39mraise\u001B[39;00m ErrBckNotFound(err\u001B[39m.\u001B[39mstatus, err\u001B[39m.\u001B[39mmessage)\n\u001B[0;32m---> 20\u001B[0m \u001B[39mraise\u001B[39;00m AISError(err\u001B[39m.\u001B[39mstatus, err\u001B[39m.\u001B[39mmessage)\n",
      "\u001B[0;31mAISError\u001B[0m: STATUS:404, MESSAGE:t[JCkTMNzN]: sdk_test/obj-0 does not exist"
     ]
    }
   ],
   "source": [
    "client.bucket(BUCKET_NAME).object(objects[0].name).get()"
   ]
  },
  {
   "cell_type": "markdown",
   "id": "e616503b",
   "metadata": {},
   "source": [
    "### View cluster information"
   ]
  },
  {
   "cell_type": "code",
   "execution_count": null,
   "id": "c9bf6281",
   "metadata": {},
   "outputs": [],
   "source": [
    "client.cluster().get_info().dict()"
   ]
  }
 ],
 "metadata": {
  "kernelspec": {
   "display_name": "Python 3.10.4 64-bit",
   "language": "python",
   "name": "python3"
  },
  "language_info": {
   "codemirror_mode": {
    "name": "ipython",
    "version": 3
   },
   "file_extension": ".py",
   "mimetype": "text/x-python",
   "name": "python",
   "nbconvert_exporter": "python",
   "pygments_lexer": "ipython3",
   "version": "3.10.4"
  },
  "vscode": {
   "interpreter": {
    "hash": "916dbcbb3f70747c44a77c7bcd40155683ae19c65e1c03b4aa3499c5328201f1"
   }
  }
 },
 "nbformat": 4,
 "nbformat_minor": 5
}
